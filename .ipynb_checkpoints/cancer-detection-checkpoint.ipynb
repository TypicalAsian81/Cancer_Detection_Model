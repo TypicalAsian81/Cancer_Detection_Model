{
 "cells": [
  {
   "cell_type": "code",
   "execution_count": 2,
   "id": "bda5b08a",
   "metadata": {},
   "outputs": [
    {
     "name": "stdout",
     "output_type": "stream",
     "text": [
      "Defaulting to user installation because normal site-packages is not writeable\n",
      "Requirement already satisfied: labelme in c:\\users\\asus\\appdata\\roaming\\python\\python310\\site-packages (5.2.1)\n",
      "Requirement already satisfied: imgviz>=0.11 in c:\\users\\asus\\appdata\\roaming\\python\\python310\\site-packages (from labelme) (1.7.2)\n",
      "Requirement already satisfied: matplotlib in c:\\users\\asus\\appdata\\roaming\\python\\python310\\site-packages (from labelme) (3.7.1)\n",
      "Requirement already satisfied: natsort>=7.1.0 in c:\\users\\asus\\appdata\\roaming\\python\\python310\\site-packages (from labelme) (8.4.0)\n",
      "Requirement already satisfied: numpy in c:\\users\\asus\\appdata\\roaming\\python\\python310\\site-packages (from labelme) (1.25.0)\n",
      "Requirement already satisfied: Pillow>=2.8 in c:\\users\\asus\\appdata\\roaming\\python\\python310\\site-packages (from labelme) (9.5.0)\n",
      "Requirement already satisfied: PyYAML in c:\\users\\asus\\appdata\\roaming\\python\\python310\\site-packages (from labelme) (6.0)\n",
      "Requirement already satisfied: qtpy!=1.11.2 in c:\\users\\asus\\appdata\\roaming\\python\\python310\\site-packages (from labelme) (2.3.1)\n",
      "Requirement already satisfied: termcolor in c:\\users\\asus\\appdata\\roaming\\python\\python310\\site-packages (from labelme) (2.3.0)\n",
      "Requirement already satisfied: colorama in c:\\users\\asus\\appdata\\roaming\\python\\python310\\site-packages (from labelme) (0.4.6)\n",
      "Requirement already satisfied: packaging in c:\\users\\asus\\appdata\\roaming\\python\\python310\\site-packages (from qtpy!=1.11.2->labelme) (23.1)\n",
      "Requirement already satisfied: contourpy>=1.0.1 in c:\\users\\asus\\appdata\\roaming\\python\\python310\\site-packages (from matplotlib->labelme) (1.1.0)\n",
      "Requirement already satisfied: cycler>=0.10 in c:\\users\\asus\\appdata\\roaming\\python\\python310\\site-packages (from matplotlib->labelme) (0.11.0)\n",
      "Requirement already satisfied: fonttools>=4.22.0 in c:\\users\\asus\\appdata\\roaming\\python\\python310\\site-packages (from matplotlib->labelme) (4.40.0)\n",
      "Requirement already satisfied: kiwisolver>=1.0.1 in c:\\users\\asus\\appdata\\roaming\\python\\python310\\site-packages (from matplotlib->labelme) (1.4.4)\n",
      "Requirement already satisfied: pyparsing>=2.3.1 in c:\\users\\asus\\appdata\\roaming\\python\\python310\\site-packages (from matplotlib->labelme) (3.1.0)\n",
      "Requirement already satisfied: python-dateutil>=2.7 in c:\\users\\asus\\appdata\\roaming\\python\\python310\\site-packages (from matplotlib->labelme) (2.8.2)\n",
      "Requirement already satisfied: six>=1.5 in c:\\users\\asus\\appdata\\roaming\\python\\python310\\site-packages (from python-dateutil>=2.7->matplotlib->labelme) (1.16.0)\n"
     ]
    }
   ],
   "source": [
    "!pip install labelme\n"
   ]
  },
  {
   "cell_type": "code",
   "execution_count": 4,
   "id": "faf1f5d3",
   "metadata": {},
   "outputs": [
    {
     "name": "stdout",
     "output_type": "stream",
     "text": [
      "Defaulting to user installation because normal site-packages is not writeable\n",
      "Requirement already satisfied: tensorflow in c:\\users\\asus\\appdata\\roaming\\python\\python310\\site-packages (2.12.0)\n",
      "Requirement already satisfied: tensorflow-intel==2.12.0 in c:\\users\\asus\\appdata\\roaming\\python\\python310\\site-packages (from tensorflow) (2.12.0)\n",
      "Requirement already satisfied: absl-py>=1.0.0 in c:\\users\\asus\\appdata\\roaming\\python\\python310\\site-packages (from tensorflow-intel==2.12.0->tensorflow) (1.4.0)\n",
      "Requirement already satisfied: astunparse>=1.6.0 in c:\\users\\asus\\appdata\\roaming\\python\\python310\\site-packages (from tensorflow-intel==2.12.0->tensorflow) (1.6.3)\n",
      "Requirement already satisfied: flatbuffers>=2.0 in c:\\users\\asus\\appdata\\roaming\\python\\python310\\site-packages (from tensorflow-intel==2.12.0->tensorflow) (23.5.26)\n",
      "Requirement already satisfied: gast<=0.4.0,>=0.2.1 in c:\\users\\asus\\appdata\\roaming\\python\\python310\\site-packages (from tensorflow-intel==2.12.0->tensorflow) (0.4.0)\n",
      "Requirement already satisfied: google-pasta>=0.1.1 in c:\\users\\asus\\appdata\\roaming\\python\\python310\\site-packages (from tensorflow-intel==2.12.0->tensorflow) (0.2.0)\n",
      "Requirement already satisfied: h5py>=2.9.0 in c:\\users\\asus\\appdata\\roaming\\python\\python310\\site-packages (from tensorflow-intel==2.12.0->tensorflow) (3.9.0)\n",
      "Requirement already satisfied: jax>=0.3.15 in c:\\users\\asus\\appdata\\roaming\\python\\python310\\site-packages (from tensorflow-intel==2.12.0->tensorflow) (0.4.13)\n",
      "Requirement already satisfied: libclang>=13.0.0 in c:\\users\\asus\\appdata\\roaming\\python\\python310\\site-packages (from tensorflow-intel==2.12.0->tensorflow) (16.0.0)\n",
      "Requirement already satisfied: numpy<1.24,>=1.22 in c:\\users\\asus\\appdata\\roaming\\python\\python310\\site-packages (from tensorflow-intel==2.12.0->tensorflow) (1.23.5)\n",
      "Requirement already satisfied: opt-einsum>=2.3.2 in c:\\users\\asus\\appdata\\roaming\\python\\python310\\site-packages (from tensorflow-intel==2.12.0->tensorflow) (3.3.0)\n",
      "Requirement already satisfied: packaging in c:\\users\\asus\\appdata\\roaming\\python\\python310\\site-packages (from tensorflow-intel==2.12.0->tensorflow) (23.1)\n",
      "Requirement already satisfied: protobuf!=4.21.0,!=4.21.1,!=4.21.2,!=4.21.3,!=4.21.4,!=4.21.5,<5.0.0dev,>=3.20.3 in c:\\users\\asus\\appdata\\roaming\\python\\python310\\site-packages (from tensorflow-intel==2.12.0->tensorflow) (4.23.3)\n",
      "Requirement already satisfied: setuptools in c:\\program files\\python310\\lib\\site-packages (from tensorflow-intel==2.12.0->tensorflow) (65.5.0)\n",
      "Requirement already satisfied: six>=1.12.0 in c:\\users\\asus\\appdata\\roaming\\python\\python310\\site-packages (from tensorflow-intel==2.12.0->tensorflow) (1.16.0)\n",
      "Requirement already satisfied: termcolor>=1.1.0 in c:\\users\\asus\\appdata\\roaming\\python\\python310\\site-packages (from tensorflow-intel==2.12.0->tensorflow) (2.3.0)\n",
      "Requirement already satisfied: typing-extensions>=3.6.6 in c:\\users\\asus\\appdata\\roaming\\python\\python310\\site-packages (from tensorflow-intel==2.12.0->tensorflow) (4.7.0)\n",
      "Requirement already satisfied: wrapt<1.15,>=1.11.0 in c:\\users\\asus\\appdata\\roaming\\python\\python310\\site-packages (from tensorflow-intel==2.12.0->tensorflow) (1.14.1)\n",
      "Requirement already satisfied: grpcio<2.0,>=1.24.3 in c:\\users\\asus\\appdata\\roaming\\python\\python310\\site-packages (from tensorflow-intel==2.12.0->tensorflow) (1.56.0)\n",
      "Requirement already satisfied: tensorboard<2.13,>=2.12 in c:\\users\\asus\\appdata\\roaming\\python\\python310\\site-packages (from tensorflow-intel==2.12.0->tensorflow) (2.12.3)\n",
      "Requirement already satisfied: tensorflow-estimator<2.13,>=2.12.0 in c:\\users\\asus\\appdata\\roaming\\python\\python310\\site-packages (from tensorflow-intel==2.12.0->tensorflow) (2.12.0)\n",
      "Requirement already satisfied: keras<2.13,>=2.12.0 in c:\\users\\asus\\appdata\\roaming\\python\\python310\\site-packages (from tensorflow-intel==2.12.0->tensorflow) (2.12.0)\n",
      "Requirement already satisfied: tensorflow-io-gcs-filesystem>=0.23.1 in c:\\users\\asus\\appdata\\roaming\\python\\python310\\site-packages (from tensorflow-intel==2.12.0->tensorflow) (0.31.0)\n",
      "Requirement already satisfied: wheel<1.0,>=0.23.0 in c:\\users\\asus\\appdata\\roaming\\python\\python310\\site-packages (from astunparse>=1.6.0->tensorflow-intel==2.12.0->tensorflow) (0.40.0)\n",
      "Requirement already satisfied: ml-dtypes>=0.1.0 in c:\\users\\asus\\appdata\\roaming\\python\\python310\\site-packages (from jax>=0.3.15->tensorflow-intel==2.12.0->tensorflow) (0.2.0)\n",
      "Requirement already satisfied: scipy>=1.7 in c:\\users\\asus\\appdata\\roaming\\python\\python310\\site-packages (from jax>=0.3.15->tensorflow-intel==2.12.0->tensorflow) (1.11.1)\n",
      "Requirement already satisfied: google-auth<3,>=1.6.3 in c:\\users\\asus\\appdata\\roaming\\python\\python310\\site-packages (from tensorboard<2.13,>=2.12->tensorflow-intel==2.12.0->tensorflow) (2.21.0)\n",
      "Requirement already satisfied: google-auth-oauthlib<1.1,>=0.5 in c:\\users\\asus\\appdata\\roaming\\python\\python310\\site-packages (from tensorboard<2.13,>=2.12->tensorflow-intel==2.12.0->tensorflow) (1.0.0)\n",
      "Requirement already satisfied: markdown>=2.6.8 in c:\\users\\asus\\appdata\\roaming\\python\\python310\\site-packages (from tensorboard<2.13,>=2.12->tensorflow-intel==2.12.0->tensorflow) (3.4.3)\n",
      "Requirement already satisfied: requests<3,>=2.21.0 in c:\\users\\asus\\appdata\\roaming\\python\\python310\\site-packages (from tensorboard<2.13,>=2.12->tensorflow-intel==2.12.0->tensorflow) (2.31.0)\n",
      "Requirement already satisfied: tensorboard-data-server<0.8.0,>=0.7.0 in c:\\users\\asus\\appdata\\roaming\\python\\python310\\site-packages (from tensorboard<2.13,>=2.12->tensorflow-intel==2.12.0->tensorflow) (0.7.1)\n",
      "Requirement already satisfied: werkzeug>=1.0.1 in c:\\users\\asus\\appdata\\roaming\\python\\python310\\site-packages (from tensorboard<2.13,>=2.12->tensorflow-intel==2.12.0->tensorflow) (2.3.6)\n",
      "Requirement already satisfied: cachetools<6.0,>=2.0.0 in c:\\users\\asus\\appdata\\roaming\\python\\python310\\site-packages (from google-auth<3,>=1.6.3->tensorboard<2.13,>=2.12->tensorflow-intel==2.12.0->tensorflow) (5.3.1)\n",
      "Requirement already satisfied: pyasn1-modules>=0.2.1 in c:\\users\\asus\\appdata\\roaming\\python\\python310\\site-packages (from google-auth<3,>=1.6.3->tensorboard<2.13,>=2.12->tensorflow-intel==2.12.0->tensorflow) (0.3.0)\n",
      "Requirement already satisfied: rsa<5,>=3.1.4 in c:\\users\\asus\\appdata\\roaming\\python\\python310\\site-packages (from google-auth<3,>=1.6.3->tensorboard<2.13,>=2.12->tensorflow-intel==2.12.0->tensorflow) (4.9)\n",
      "Requirement already satisfied: urllib3<2.0 in c:\\users\\asus\\appdata\\roaming\\python\\python310\\site-packages (from google-auth<3,>=1.6.3->tensorboard<2.13,>=2.12->tensorflow-intel==2.12.0->tensorflow) (1.26.16)\n",
      "Requirement already satisfied: requests-oauthlib>=0.7.0 in c:\\users\\asus\\appdata\\roaming\\python\\python310\\site-packages (from google-auth-oauthlib<1.1,>=0.5->tensorboard<2.13,>=2.12->tensorflow-intel==2.12.0->tensorflow) (1.3.1)\n",
      "Requirement already satisfied: charset-normalizer<4,>=2 in c:\\users\\asus\\appdata\\roaming\\python\\python310\\site-packages (from requests<3,>=2.21.0->tensorboard<2.13,>=2.12->tensorflow-intel==2.12.0->tensorflow) (3.1.0)\n",
      "Requirement already satisfied: idna<4,>=2.5 in c:\\users\\asus\\appdata\\roaming\\python\\python310\\site-packages (from requests<3,>=2.21.0->tensorboard<2.13,>=2.12->tensorflow-intel==2.12.0->tensorflow) (3.4)\n",
      "Requirement already satisfied: certifi>=2017.4.17 in c:\\users\\asus\\appdata\\roaming\\python\\python310\\site-packages (from requests<3,>=2.21.0->tensorboard<2.13,>=2.12->tensorflow-intel==2.12.0->tensorflow) (2023.5.7)\n",
      "Requirement already satisfied: MarkupSafe>=2.1.1 in c:\\users\\asus\\appdata\\roaming\\python\\python310\\site-packages (from werkzeug>=1.0.1->tensorboard<2.13,>=2.12->tensorflow-intel==2.12.0->tensorflow) (2.1.3)\n",
      "Requirement already satisfied: pyasn1<0.6.0,>=0.4.6 in c:\\users\\asus\\appdata\\roaming\\python\\python310\\site-packages (from pyasn1-modules>=0.2.1->google-auth<3,>=1.6.3->tensorboard<2.13,>=2.12->tensorflow-intel==2.12.0->tensorflow) (0.5.0)\n",
      "Requirement already satisfied: oauthlib>=3.0.0 in c:\\users\\asus\\appdata\\roaming\\python\\python310\\site-packages (from requests-oauthlib>=0.7.0->google-auth-oauthlib<1.1,>=0.5->tensorboard<2.13,>=2.12->tensorflow-intel==2.12.0->tensorflow) (3.2.2)\n"
     ]
    }
   ],
   "source": [
    "!pip install tensorflow"
   ]
  },
  {
   "cell_type": "code",
   "execution_count": 5,
   "id": "a37fd904",
   "metadata": {},
   "outputs": [
    {
     "name": "stdout",
     "output_type": "stream",
     "text": [
      "Defaulting to user installation because normal site-packages is not writeable\n",
      "Collecting opencv-python\n",
      "  Using cached opencv_python-4.7.0.72-cp37-abi3-win_amd64.whl (38.2 MB)\n",
      "Requirement already satisfied: matplotlib in c:\\users\\asus\\appdata\\roaming\\python\\python310\\site-packages (3.7.1)\n",
      "Requirement already satisfied: numpy>=1.21.2 in c:\\users\\asus\\appdata\\roaming\\python\\python310\\site-packages (from opencv-python) (1.23.5)\n",
      "Requirement already satisfied: contourpy>=1.0.1 in c:\\users\\asus\\appdata\\roaming\\python\\python310\\site-packages (from matplotlib) (1.1.0)\n",
      "Requirement already satisfied: cycler>=0.10 in c:\\users\\asus\\appdata\\roaming\\python\\python310\\site-packages (from matplotlib) (0.11.0)\n",
      "Requirement already satisfied: fonttools>=4.22.0 in c:\\users\\asus\\appdata\\roaming\\python\\python310\\site-packages (from matplotlib) (4.40.0)\n",
      "Requirement already satisfied: kiwisolver>=1.0.1 in c:\\users\\asus\\appdata\\roaming\\python\\python310\\site-packages (from matplotlib) (1.4.4)\n",
      "Requirement already satisfied: packaging>=20.0 in c:\\users\\asus\\appdata\\roaming\\python\\python310\\site-packages (from matplotlib) (23.1)\n",
      "Requirement already satisfied: pillow>=6.2.0 in c:\\users\\asus\\appdata\\roaming\\python\\python310\\site-packages (from matplotlib) (9.5.0)\n",
      "Requirement already satisfied: pyparsing>=2.3.1 in c:\\users\\asus\\appdata\\roaming\\python\\python310\\site-packages (from matplotlib) (3.1.0)\n",
      "Requirement already satisfied: python-dateutil>=2.7 in c:\\users\\asus\\appdata\\roaming\\python\\python310\\site-packages (from matplotlib) (2.8.2)\n",
      "Requirement already satisfied: six>=1.5 in c:\\users\\asus\\appdata\\roaming\\python\\python310\\site-packages (from python-dateutil>=2.7->matplotlib) (1.16.0)\n",
      "Installing collected packages: opencv-python\n",
      "Successfully installed opencv-python-4.7.0.72\n"
     ]
    }
   ],
   "source": [
    "!pip install opencv-python matplotlib"
   ]
  },
  {
   "cell_type": "code",
   "execution_count": 6,
   "id": "569b884a",
   "metadata": {},
   "outputs": [
    {
     "name": "stdout",
     "output_type": "stream",
     "text": [
      "Defaulting to user installation because normal site-packages is not writeable\n",
      "Collecting albumentations\n",
      "  Using cached albumentations-1.3.1-py3-none-any.whl (125 kB)\n",
      "Requirement already satisfied: numpy>=1.11.1 in c:\\users\\asus\\appdata\\roaming\\python\\python311\\site-packages (from albumentations) (1.25.0)\n",
      "Requirement already satisfied: scipy>=1.1.0 in c:\\users\\asus\\appdata\\roaming\\python\\python311\\site-packages (from albumentations) (1.11.0)\n",
      "Collecting scikit-image>=0.16.1 (from albumentations)\n",
      "  Downloading scikit_image-0.21.0-cp311-cp311-win_amd64.whl (22.8 MB)\n",
      "                                              0.0/22.8 MB ? eta -:--:--\n",
      "                                              0.1/22.8 MB 3.3 MB/s eta 0:00:07\n",
      "                                              0.3/22.8 MB 3.2 MB/s eta 0:00:08\n",
      "                                              0.5/22.8 MB 3.7 MB/s eta 0:00:07\n",
      "     -                                        0.7/22.8 MB 4.9 MB/s eta 0:00:05\n",
      "     -                                        1.0/22.8 MB 4.9 MB/s eta 0:00:05\n",
      "     --                                       1.3/22.8 MB 5.2 MB/s eta 0:00:05\n",
      "     --                                       1.6/22.8 MB 5.7 MB/s eta 0:00:04\n",
      "     ---                                      1.9/22.8 MB 5.6 MB/s eta 0:00:04\n",
      "     ---                                      2.2/22.8 MB 6.0 MB/s eta 0:00:04\n",
      "     ----                                     2.4/22.8 MB 6.0 MB/s eta 0:00:04\n",
      "     -----                                    3.0/22.8 MB 6.8 MB/s eta 0:00:03\n",
      "     ------                                   3.7/22.8 MB 7.7 MB/s eta 0:00:03\n",
      "     -------                                  4.4/22.8 MB 8.6 MB/s eta 0:00:03\n",
      "     --------                                 5.1/22.8 MB 9.2 MB/s eta 0:00:02\n",
      "     ---------                                5.2/22.8 MB 9.3 MB/s eta 0:00:02\n",
      "     ---------                                5.3/22.8 MB 8.3 MB/s eta 0:00:03\n",
      "     ---------                                5.6/22.8 MB 8.1 MB/s eta 0:00:03\n",
      "     ----------                               6.2/22.8 MB 8.2 MB/s eta 0:00:03\n",
      "     -----------                              6.7/22.8 MB 8.4 MB/s eta 0:00:02\n",
      "     ------------                             7.1/22.8 MB 8.5 MB/s eta 0:00:02\n",
      "     ------------                             7.4/22.8 MB 8.6 MB/s eta 0:00:02\n",
      "     -------------                            7.8/22.8 MB 8.4 MB/s eta 0:00:02\n",
      "     --------------                           8.1/22.8 MB 8.4 MB/s eta 0:00:02\n",
      "     --------------                           8.5/22.8 MB 8.5 MB/s eta 0:00:02\n",
      "     ---------------                          9.0/22.8 MB 8.4 MB/s eta 0:00:02\n",
      "     ----------------                         9.4/22.8 MB 8.5 MB/s eta 0:00:02\n",
      "     -----------------                        9.8/22.8 MB 8.6 MB/s eta 0:00:02\n",
      "     -----------------                        10.2/22.8 MB 8.6 MB/s eta 0:00:02\n",
      "     ------------------                       10.7/22.8 MB 9.2 MB/s eta 0:00:02\n",
      "     -------------------                      11.2/22.8 MB 9.5 MB/s eta 0:00:02\n",
      "     --------------------                     11.5/22.8 MB 9.5 MB/s eta 0:00:02\n",
      "     ---------------------                    12.0/22.8 MB 9.6 MB/s eta 0:00:02\n",
      "     ---------------------                    12.4/22.8 MB 9.6 MB/s eta 0:00:02\n",
      "     ----------------------                   12.9/22.8 MB 9.8 MB/s eta 0:00:02\n",
      "     -----------------------                  13.4/22.8 MB 9.6 MB/s eta 0:00:01\n",
      "     ------------------------                 13.8/22.8 MB 9.5 MB/s eta 0:00:01\n",
      "     -------------------------                14.4/22.8 MB 9.2 MB/s eta 0:00:01\n",
      "     --------------------------               14.9/22.8 MB 9.1 MB/s eta 0:00:01\n",
      "     --------------------------               15.3/22.8 MB 9.1 MB/s eta 0:00:01\n",
      "     ---------------------------             15.9/22.8 MB 10.1 MB/s eta 0:00:01\n",
      "     ----------------------------             16.3/22.8 MB 9.9 MB/s eta 0:00:01\n",
      "     -----------------------------            16.8/22.8 MB 9.9 MB/s eta 0:00:01\n",
      "     ------------------------------           17.3/22.8 MB 9.9 MB/s eta 0:00:01\n",
      "     ------------------------------          17.8/22.8 MB 10.1 MB/s eta 0:00:01\n",
      "     -------------------------------         18.4/22.8 MB 10.4 MB/s eta 0:00:01\n",
      "     --------------------------------        19.0/22.8 MB 10.6 MB/s eta 0:00:01\n",
      "     ---------------------------------       19.5/22.8 MB 10.7 MB/s eta 0:00:01\n",
      "     ----------------------------------      20.2/22.8 MB 10.9 MB/s eta 0:00:01\n",
      "     -----------------------------------     20.7/22.8 MB 11.1 MB/s eta 0:00:01\n",
      "     ------------------------------------    21.4/22.8 MB 11.1 MB/s eta 0:00:01\n",
      "     -------------------------------------   21.9/22.8 MB 11.5 MB/s eta 0:00:01\n",
      "     --------------------------------------  22.5/22.8 MB 11.7 MB/s eta 0:00:01\n",
      "     --------------------------------------  22.8/22.8 MB 11.7 MB/s eta 0:00:01\n",
      "     --------------------------------------  22.8/22.8 MB 11.7 MB/s eta 0:00:01\n",
      "     --------------------------------------  22.8/22.8 MB 11.7 MB/s eta 0:00:01\n",
      "     --------------------------------------  22.8/22.8 MB 11.7 MB/s eta 0:00:01\n",
      "     --------------------------------------  22.8/22.8 MB 11.7 MB/s eta 0:00:01\n",
      "     --------------------------------------  22.8/22.8 MB 11.7 MB/s eta 0:00:01\n",
      "     --------------------------------------  22.8/22.8 MB 11.7 MB/s eta 0:00:01\n",
      "     --------------------------------------  22.8/22.8 MB 11.7 MB/s eta 0:00:01\n",
      "     ---------------------------------------- 22.8/22.8 MB 8.2 MB/s eta 0:00:00\n",
      "Requirement already satisfied: PyYAML in c:\\users\\asus\\appdata\\roaming\\python\\python311\\site-packages (from albumentations) (6.0)\n",
      "Collecting qudida>=0.0.4 (from albumentations)\n",
      "  Using cached qudida-0.0.4-py3-none-any.whl (3.5 kB)\n",
      "Collecting opencv-python-headless>=4.1.1 (from albumentations)\n",
      "  Using cached opencv_python_headless-4.7.0.72-cp37-abi3-win_amd64.whl (38.1 MB)\n",
      "Collecting scikit-learn>=0.19.1 (from qudida>=0.0.4->albumentations)\n",
      "  Downloading scikit_learn-1.2.2-cp311-cp311-win_amd64.whl (8.3 MB)\n",
      "                                              0.0/8.3 MB ? eta -:--:--\n",
      "     --                                       0.6/8.3 MB 12.4 MB/s eta 0:00:01\n",
      "     ------                                   1.2/8.3 MB 13.2 MB/s eta 0:00:01\n",
      "     ---------                                1.9/8.3 MB 14.8 MB/s eta 0:00:01\n",
      "     ------------                             2.6/8.3 MB 13.6 MB/s eta 0:00:01\n",
      "     ---------------                          3.2/8.3 MB 13.5 MB/s eta 0:00:01\n",
      "     ------------------                       3.9/8.3 MB 13.7 MB/s eta 0:00:01\n",
      "     ---------------------                    4.5/8.3 MB 13.8 MB/s eta 0:00:01\n",
      "     -------------------------                5.2/8.3 MB 13.9 MB/s eta 0:00:01\n",
      "     ----------------------------             5.9/8.3 MB 14.0 MB/s eta 0:00:01\n",
      "     -------------------------------          6.6/8.3 MB 14.1 MB/s eta 0:00:01\n",
      "     -----------------------------------      7.3/8.3 MB 14.1 MB/s eta 0:00:01\n",
      "     --------------------------------------   8.0/8.3 MB 14.2 MB/s eta 0:00:01\n",
      "     ---------------------------------------  8.3/8.3 MB 14.3 MB/s eta 0:00:01\n",
      "     ---------------------------------------  8.3/8.3 MB 14.3 MB/s eta 0:00:01\n",
      "     ---------------------------------------  8.3/8.3 MB 14.3 MB/s eta 0:00:01\n",
      "     ---------------------------------------- 8.3/8.3 MB 11.2 MB/s eta 0:00:00\n",
      "Collecting typing-extensions (from qudida>=0.0.4->albumentations)\n",
      "  Using cached typing_extensions-4.7.0-py3-none-any.whl (33 kB)\n",
      "Collecting networkx>=2.8 (from scikit-image>=0.16.1->albumentations)\n",
      "  Using cached networkx-3.1-py3-none-any.whl (2.1 MB)\n",
      "Requirement already satisfied: pillow>=9.0.1 in c:\\users\\asus\\appdata\\roaming\\python\\python311\\site-packages (from scikit-image>=0.16.1->albumentations) (9.5.0)\n",
      "Collecting imageio>=2.27 (from scikit-image>=0.16.1->albumentations)\n",
      "  Using cached imageio-2.31.1-py3-none-any.whl (313 kB)\n",
      "Collecting tifffile>=2022.8.12 (from scikit-image>=0.16.1->albumentations)\n",
      "  Using cached tifffile-2023.4.12-py3-none-any.whl (219 kB)\n",
      "Collecting PyWavelets>=1.1.1 (from scikit-image>=0.16.1->albumentations)\n",
      "  Downloading PyWavelets-1.4.1-cp311-cp311-win_amd64.whl (4.2 MB)\n",
      "                                              0.0/4.2 MB ? eta -:--:--\n",
      "     ------                                   0.7/4.2 MB 15.3 MB/s eta 0:00:01\n",
      "     ------------                             1.3/4.2 MB 13.9 MB/s eta 0:00:01\n",
      "     -------------------                      2.0/4.2 MB 14.3 MB/s eta 0:00:01\n",
      "     --------------------------               2.8/4.2 MB 14.8 MB/s eta 0:00:01\n",
      "     ----------------------------------       3.6/4.2 MB 14.2 MB/s eta 0:00:01\n",
      "     ---------------------------------------  4.2/4.2 MB 14.8 MB/s eta 0:00:01\n",
      "     ---------------------------------------  4.2/4.2 MB 14.8 MB/s eta 0:00:01\n",
      "     ---------------------------------------  4.2/4.2 MB 14.8 MB/s eta 0:00:01\n",
      "     ---------------------------------------- 4.2/4.2 MB 11.1 MB/s eta 0:00:00\n",
      "Requirement already satisfied: packaging>=21 in c:\\users\\asus\\appdata\\roaming\\python\\python311\\site-packages (from scikit-image>=0.16.1->albumentations) (23.1)\n",
      "Collecting lazy_loader>=0.2 (from scikit-image>=0.16.1->albumentations)\n",
      "  Using cached lazy_loader-0.2-py3-none-any.whl (8.6 kB)\n",
      "Collecting joblib>=1.1.1 (from scikit-learn>=0.19.1->qudida>=0.0.4->albumentations)\n",
      "  Using cached joblib-1.3.0-py3-none-any.whl (301 kB)\n",
      "Collecting threadpoolctl>=2.0.0 (from scikit-learn>=0.19.1->qudida>=0.0.4->albumentations)\n",
      "  Using cached threadpoolctl-3.1.0-py3-none-any.whl (14 kB)\n",
      "Installing collected packages: typing-extensions, tifffile, threadpoolctl, PyWavelets, opencv-python-headless, networkx, lazy_loader, joblib, imageio, scikit-learn, scikit-image, qudida, albumentations\n",
      "Successfully installed PyWavelets-1.4.1 albumentations-1.3.1 imageio-2.31.1 joblib-1.3.0 lazy_loader-0.2 networkx-3.1 opencv-python-headless-4.7.0.72 qudida-0.0.4 scikit-image-0.21.0 scikit-learn-1.2.2 threadpoolctl-3.1.0 tifffile-2023.4.12 typing-extensions-4.7.0\n",
      "Note: you may need to restart the kernel to use updated packages.\n"
     ]
    }
   ],
   "source": [
    "pip install -U albumentations"
   ]
  },
  {
   "cell_type": "code",
   "execution_count": null,
   "id": "a8a7f8a8",
   "metadata": {},
   "outputs": [],
   "source": [
    "import os\n",
    "os._exit(00)"
   ]
  },
  {
   "cell_type": "code",
   "execution_count": 1,
   "id": "d3df7414",
   "metadata": {},
   "outputs": [
    {
     "name": "stdout",
     "output_type": "stream",
     "text": [
      "hello\n"
     ]
    }
   ],
   "source": [
    "print('hello')"
   ]
  },
  {
   "cell_type": "code",
   "execution_count": 2,
   "id": "c595c421",
   "metadata": {},
   "outputs": [],
   "source": [
    "import os\n",
    "import time\n",
    "import uuid\n",
    "import cv2"
   ]
  },
  {
   "cell_type": "code",
   "execution_count": null,
   "id": "71f57df1",
   "metadata": {},
   "outputs": [],
   "source": [
    "IMAGES_PATH = os.path.join('data','images')\n",
    "number_images = 30"
   ]
  }
 ],
 "metadata": {
  "kernelspec": {
   "display_name": "Python 3 (ipykernel)",
   "language": "python",
   "name": "python3"
  },
  "language_info": {
   "codemirror_mode": {
    "name": "ipython",
    "version": 3
   },
   "file_extension": ".py",
   "mimetype": "text/x-python",
   "name": "python",
   "nbconvert_exporter": "python",
   "pygments_lexer": "ipython3",
   "version": "3.11.4"
  }
 },
 "nbformat": 4,
 "nbformat_minor": 5
}
